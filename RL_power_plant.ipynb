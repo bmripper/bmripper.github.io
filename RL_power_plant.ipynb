{
 "cells": [
  {
   "cell_type": "code",
   "execution_count": 1,
   "id": "8035b90e",
   "metadata": {},
   "outputs": [],
   "source": [
    "import numpy as np\n",
    "import pylab as plt\n",
    "from scipy import stats"
   ]
  },
  {
   "cell_type": "code",
   "execution_count": 2,
   "id": "5c5653ae",
   "metadata": {},
   "outputs": [],
   "source": [
    "goal = 50                   #kWh, goal for the system to reach\n",
    "s_avg_cc = 0.3              # as decimal percentage of sky, average cloud cover\n",
    "s_std_cc = 0.1              # as decimal percentage of sky, standard deviation cloud cover\n",
    "s_irr = 7                   # kj/m2, solar irradiance\n",
    "s_area = 100                # m2, solar panel area\n",
    "ng_power = 70               # kW, natural gas power generation\n",
    "ng_avg_uptime = 0.95        # as decimal percentage of an hour, average up-time of equipment\n",
    "ng_std_uptime = 0.01        # as decimal percentage of an hour, standard deviation up-time of equipment\n",
    "ng_emissions_per_kWh = 0.4127691    # emissions per kWh when an ng turbine is running\n",
    "ng_startup_time = 4         # hours, time to start-up natural gas turbine\n",
    "ng_shutdown_time = 2        # hours, time to shutdown natural gas turbine\n",
    "reward_function = [0,50,100]"
   ]
  },
  {
   "cell_type": "code",
   "execution_count": 3,
   "id": "2ab652a1",
   "metadata": {},
   "outputs": [
    {
     "name": "stdout",
     "output_type": "stream",
     "text": [
      "[50, 0, 0, 50, 0, 0, 0, 100, 50, 50, 50, 100, 100, 100, 100, 100, 100, 100, 50, 50, 0, 50, 0, 0]\n"
     ]
    }
   ],
   "source": [
    "# Create Simulation\n",
    "def simulation(actions):\n",
    "    reward = []\n",
    "    for idx, ng_on in enumerate(actions):\n",
    "        s_kWh = (s_irr * stats.norm.pdf((idx-12)/2.738612788, 0, 1) / \\\n",
    "                stats.norm.pdf((12-12)/2.738612788, 0, 1) ) * \\\n",
    "                (1-np.random.normal(s_avg_cc, s_std_cc, 1)[0]) * s_area\n",
    "        ng_kWh = ng_on * np.random.normal(ng_avg_uptime, ng_std_uptime,1)[0] * ng_power\n",
    "        ng_emissions = ng_kWh * ng_emissions_per_kWh\n",
    "        if s_kWh >= goal and ng_emissions < 1:\n",
    "            r = reward_function[2]\n",
    "        elif s_kWh + ng_kWh >= goal:\n",
    "            r = reward_function[1]\n",
    "        else:\n",
    "            r = reward_function[0]\n",
    "        reward.append(r)\n",
    "    return reward\n",
    "\n",
    "# Test Simulation\n",
    "actions_guess = np.ones(24)\n",
    "actions_guess *= -1\n",
    "for i in range(24):\n",
    "        actions_guess[i] = round(np.random.uniform(0,1),0)\n",
    "        \n",
    "actions_guess = [int(a) for a in actions_guess]\n",
    "rewards = simulation(actions_guess)\n",
    "print(rewards)"
   ]
  },
  {
   "cell_type": "code",
   "execution_count": 4,
   "id": "1b169bca",
   "metadata": {},
   "outputs": [
    {
     "name": "stdout",
     "output_type": "stream",
     "text": [
      "Wall time: 3.27 s\n"
     ]
    },
    {
     "data": {
      "text/plain": [
       "16777216"
      ]
     },
     "execution_count": 4,
     "metadata": {},
     "output_type": "execute_result"
    }
   ],
   "source": [
    "%%time\n",
    "\n",
    "import itertools\n",
    "state_space = list(itertools.product([0, 1], repeat=24))\n",
    "len(state_space)"
   ]
  },
  {
   "cell_type": "code",
   "execution_count": 5,
   "id": "b1e9b73f",
   "metadata": {},
   "outputs": [
    {
     "name": "stdout",
     "output_type": "stream",
     "text": [
      "finished (1,0,0,0,1)\n",
      "finished (1,0,0,1)\n",
      "finished (1,0,1)\n",
      "finished (0,1,0)\n",
      "finished (0,0,0,1)\n",
      "finished (0,0,1)\n",
      "finished (0,1)\n",
      "finished (1,0)\n",
      "number of invalid states: 16768878\n",
      "number of valid states 8338\n",
      "Wall time: 15min 57s\n"
     ]
    }
   ],
   "source": [
    "%%time\n",
    "\n",
    "# takes 29 minutes to run\n",
    "\n",
    "indexes = []\n",
    "b = (1,0,0,0,1)\n",
    "for idx, states in enumerate(state_space):\n",
    "    for i in range(len(states)):\n",
    "        if states[i:i+len(b)] == b:\n",
    "            indexes.append(idx)\n",
    "\n",
    "print(\"finished (1,0,0,0,1)\")\n",
    "b = (1,0,0,1)\n",
    "for idx, states in enumerate(state_space):\n",
    "    for i in range(len(states)):\n",
    "        if states[i:i+len(b)] == b:\n",
    "            indexes.append(idx)\n",
    "\n",
    "print(\"finished (1,0,0,1)\")\n",
    "b = (1,0,1)\n",
    "for idx, states in enumerate(state_space):\n",
    "    for i in range(len(states)):\n",
    "        if states[i:i+len(b)] == b:\n",
    "            indexes.append(idx)\n",
    "            \n",
    "print(\"finished (1,0,1)\")\n",
    "b = (0,1,0)\n",
    "for idx, states in enumerate(state_space):\n",
    "    for i in range(len(states)):\n",
    "        if states[i:i+len(b)] == b:\n",
    "            indexes.append(idx)\n",
    "\n",
    "print(\"finished (0,1,0)\")\n",
    "b = (0,0,0,1)\n",
    "for idx, states in enumerate(state_space):\n",
    "    for i in range(len(states)):\n",
    "        if states[0:i+len(b)] == b:\n",
    "            indexes.append(idx)\n",
    "            \n",
    "print(\"finished (0,0,0,1)\")\n",
    "b = (0,0,1)\n",
    "for idx, states in enumerate(state_space):\n",
    "    for i in range(len(states)):\n",
    "        if states[0:i+len(b)] == b:\n",
    "            indexes.append(idx)\n",
    "\n",
    "print(\"finished (0,0,1)\")\n",
    "b = (0,1)\n",
    "for idx, states in enumerate(state_space):\n",
    "    for i in range(len(states)):\n",
    "        if states[0:i+len(b)] == b:\n",
    "            indexes.append(idx)\n",
    "            \n",
    "print(\"finished (0,1)\")\n",
    "b = (1,0)\n",
    "for idx, states in enumerate(state_space):\n",
    "    for i in range(len(states)):\n",
    "        if states[0:i+len(b)] == b:\n",
    "            indexes.append(idx)\n",
    "\n",
    "print(\"finished (1,0)\")\n",
    "indexes.sort()\n",
    "indexes = set(indexes)\n",
    "indexes = list(indexes)\n",
    "print('number of invalid states:',len(indexes))\n",
    "for i in reversed(indexes):\n",
    "    state_space.pop(i)\n",
    "    \n",
    "print('number of valid states',len(state_space))\n",
    "#state_space"
   ]
  },
  {
   "cell_type": "code",
   "execution_count": 6,
   "id": "01d0f452",
   "metadata": {},
   "outputs": [],
   "source": [
    "goal_mapping = []\n",
    "for i in state_space:\n",
    "    goal_mapping.append(simulation(i))\n",
    "    \n",
    "#goal_mapping"
   ]
  },
  {
   "cell_type": "code",
   "execution_count": 7,
   "id": "abe89db2",
   "metadata": {},
   "outputs": [
    {
     "name": "stdout",
     "output_type": "stream",
     "text": [
      "(3, 8338)\n",
      "average winner was: 7622 with simulation: (1, 1, 1, 1, 1, 1, 1, 0, 0, 0, 0, 0, 0, 0, 0, 0, 0, 0, 1, 1, 1, 1, 1, 1)\n",
      "round 1 winner was: 7622 with simulation: (1, 1, 1, 1, 1, 1, 1, 0, 0, 0, 0, 0, 0, 0, 0, 0, 0, 0, 1, 1, 1, 1, 1, 1)\n",
      "round 2 winner was: 7272 with simulation: (1, 1, 1, 1, 1, 1, 0, 0, 0, 0, 0, 0, 0, 0, 0, 0, 0, 0, 0, 1, 1, 1, 1, 1)\n",
      "round 3 winner was: 7265 with simulation: (1, 1, 1, 1, 1, 1, 0, 0, 0, 0, 0, 0, 0, 0, 0, 0, 0, 0, 0, 0, 0, 1, 1, 1)\n",
      "Wall time: 1min 18s\n"
     ]
    }
   ],
   "source": [
    "%%time\n",
    "reward_matrix = []\n",
    "num_iterations = 3\n",
    "for i in range(num_iterations):\n",
    "    reward = []\n",
    "    for state in state_space:\n",
    "        reward.append(round(sum(simulation(state)),1))\n",
    "\n",
    "    reward_matrix.append(reward)\n",
    "\n",
    "print(np.array(reward_matrix).shape)\n",
    "print('average winner was:',np.argmax(np.average(reward_matrix,axis=0)),\\\n",
    "      'with simulation:',state_space[np.argmax(np.average(reward_matrix,axis=0))])\n",
    "for i in range(len(reward_matrix)):\n",
    "    print('round '+str(i+1),'winner was:',np.argmax(reward_matrix[i]),\\\n",
    "          'with simulation:',state_space[np.argmax(reward_matrix[i])])"
   ]
  },
  {
   "cell_type": "code",
   "execution_count": 8,
   "id": "81a11855",
   "metadata": {},
   "outputs": [],
   "source": [
    "node_counter = 0\n",
    "state_lookup = {}\n",
    "for j in range(1,25):\n",
    "    for i in state_space:\n",
    "        if 'level'+str(j)+'_'+str(i[:j]) not in state_lookup:\n",
    "            state_lookup['level'+str(j)+'_'+str(i[:j])] = node_counter\n",
    "            node_counter += 1\n",
    "\n",
    "\n",
    "states = []\n",
    "for i in state_space:\n",
    "    available_actions = []\n",
    "    for j in range(1,25):\n",
    "        available_actions.append(state_lookup['level'+str(j)+'_'+str(i[:j])])\n",
    "    \n",
    "    states.append(available_actions)\n",
    "\n",
    "\n",
    "available_actions = []\n",
    "term_nodes = [17924]\n",
    "           \n",
    "for i in states:\n",
    "    for j in range(1,25):\n",
    "        if j == 0:\n",
    "            if (0,i[j]) not in available_actions:\n",
    "                available_actions.append((0,i[j]))\n",
    "        elif j == 24:   \n",
    "            if (node_counter,0) not in available_actions and (node_counter,1) not in available_actions:\n",
    "                available_actions.append((node_counter,0))\n",
    "                available_actions.append((node_counter,1))\n",
    "            else:\n",
    "                term_nodes.append(i[-1])\n",
    "        else:\n",
    "            if (i[j-1],i[j]) not in available_actions:\n",
    "                available_actions.append((i[j-1],i[j]))\n",
    "            \n",
    "#available_actions"
   ]
  },
  {
   "cell_type": "code",
   "execution_count": 9,
   "id": "09e82483",
   "metadata": {},
   "outputs": [],
   "source": [
    "points_list = available_actions"
   ]
  },
  {
   "cell_type": "code",
   "execution_count": 10,
   "id": "9a73ee32",
   "metadata": {},
   "outputs": [],
   "source": [
    "# how many points in graph? x points\n",
    "MATRIX_SIZE = node_counter + 1\n",
    "\n",
    "# create matrix x*y\n",
    "R = np.matrix(np.ones(shape=(MATRIX_SIZE, MATRIX_SIZE)))\n",
    "R *= -1"
   ]
  },
  {
   "cell_type": "code",
   "execution_count": 19,
   "id": "9ed40b8e",
   "metadata": {},
   "outputs": [],
   "source": [
    "# assign zeros to paths and 100 to goal-reaching point\n",
    "reward = -1\n",
    "for point in points_list:\n",
    "    #print(point)\n",
    "    for idx, term_node in enumerate(term_nodes):\n",
    "        if point[0] == term_node or point[1] == term_node:\n",
    "            reward = sum(goal_mapping[idx])\n",
    "    \n",
    "    if point[0] in term_nodes:\n",
    "        R[point] = reward\n",
    "    else:\n",
    "        R[point] = 0\n",
    "\n",
    "    if point[1] in term_nodes:\n",
    "        R[point[::-1]] = reward\n",
    "    else:\n",
    "        # reverse of point\n",
    "        R[point[::-1]]= 0\n",
    "\n",
    "# add goal point round trip\n",
    "for idx, term_node in enumerate(term_nodes):\n",
    "    R[term_node,term_node]= sum(goal_mapping[idx])\n",
    "\n",
    "#R"
   ]
  },
  {
   "cell_type": "code",
   "execution_count": 12,
   "id": "9cf7dc66",
   "metadata": {},
   "outputs": [],
   "source": [
    "from numba import jit\n",
    "\n",
    "@jit(nopython=True) # Set \"nopython\" mode for best performance, equivalent to @njit\n",
    "def go_fast_score(Q): # Function is compiled to machine code when called the first time\n",
    "    go_fast_score = Q/np.max(Q)*100\n",
    "    return go_fast_score"
   ]
  },
  {
   "cell_type": "code",
   "execution_count": 13,
   "id": "e65a80cd",
   "metadata": {},
   "outputs": [
    {
     "data": {
      "text/plain": [
       "0"
      ]
     },
     "execution_count": 13,
     "metadata": {},
     "output_type": "execute_result"
    }
   ],
   "source": [
    "Q = np.matrix(np.zeros([MATRIX_SIZE,MATRIX_SIZE], dtype=int))\n",
    "\n",
    "# learning parameter\n",
    "gamma = 0.8\n",
    "\n",
    "initial_state = node_counter\n",
    "\n",
    "def available_actions(state):\n",
    "    current_state_row = R[state,]\n",
    "    av_act = np.where(current_state_row >= 0)[1]\n",
    "    return av_act\n",
    "\n",
    "available_act = available_actions(initial_state) \n",
    "\n",
    "def sample_next_action(available_actions_range):\n",
    "    next_action = int(np.random.choice(available_act,1))\n",
    "    return next_action\n",
    "\n",
    "action = sample_next_action(available_act)\n",
    "\n",
    "def update(current_state, action, gamma):\n",
    "\n",
    "    max_index = np.where(Q[action,] == np.max(Q[action,]))[1]\n",
    "\n",
    "    if max_index.shape[0] > 1:\n",
    "        max_index = int(np.random.choice(max_index, size = 1))\n",
    "    else:\n",
    "        max_index = int(max_index)\n",
    "\n",
    "    max_value = Q[action, max_index]\n",
    "\n",
    "    Q[current_state, action] = int(R[current_state, action] + gamma * max_value)\n",
    "    #print('max_value', R[current_state, action] + gamma * max_value)\n",
    "  \n",
    "    #if (np.max(Q) > 0):\n",
    "    #    return(np.sum(go_fast_score(Q)))\n",
    "    #else:\n",
    "    return(0)\n",
    "\n",
    "update(initial_state, action, gamma)"
   ]
  },
  {
   "cell_type": "code",
   "execution_count": 14,
   "id": "bbf58c89",
   "metadata": {},
   "outputs": [
    {
     "name": "stdout",
     "output_type": "stream",
     "text": [
      "Trained Q matrix:\n",
      "Wall time: 3h 16min 33s\n"
     ]
    }
   ],
   "source": [
    "%%time\n",
    "\n",
    "# Training\n",
    "scores = []\n",
    "for i in range(2000000):\n",
    "    current_state = np.random.randint(0, int(Q.shape[0]))\n",
    "    available_act = available_actions(current_state)\n",
    "    action = sample_next_action(available_act)\n",
    "    score = update(current_state,action,gamma)\n",
    "    if i % 1000 == 0:\n",
    "        score = np.sum(go_fast_score(Q))\n",
    "        scores.append(score)\n",
    "        #print ('Score:', str(score))\n",
    "    \n",
    "print(\"Trained Q matrix:\")\n",
    "#print(go_fast_score(Q))"
   ]
  },
  {
   "cell_type": "code",
   "execution_count": 15,
   "id": "234d1de1",
   "metadata": {},
   "outputs": [
    {
     "name": "stdout",
     "output_type": "stream",
     "text": [
      "Most efficient path:\n",
      "[26262, 1, 3, 6, 10, 16, 24, 35, 52, 78, 117, 174, 257, 377, 551, 805, 1178, 1727, 2535, 3722, 5463, 8011, 11740, 17199, 25196]\n"
     ]
    },
    {
     "data": {
      "image/png": "[encoded data removed]",
      "text/plain": [
       "<Figure size 432x288 with 1 Axes>"
      ]
     },
     "metadata": {
      "needs_background": "light"
     },
     "output_type": "display_data"
    }
   ],
   "source": [
    "# Testing\n",
    "current_state = node_counter\n",
    "steps = [current_state]\n",
    "\n",
    "while current_state not in term_nodes:\n",
    "    next_step_index = np.where(Q[current_state,] == np.max(Q[current_state,]))[1]\n",
    "\n",
    "    if next_step_index.shape[0] > 1:\n",
    "        next_step_index = int(np.random.choice(next_step_index, size = 1))\n",
    "    else:\n",
    "        next_step_index = int(next_step_index)\n",
    "\n",
    "    steps.append(next_step_index)\n",
    "    current_state = next_step_index\n",
    "\n",
    "print(\"Most efficient path:\")\n",
    "print(steps)\n",
    "\n",
    "plt.plot(scores)\n",
    "plt.show()"
   ]
  },
  {
   "cell_type": "code",
   "execution_count": 17,
   "id": "852a7db0",
   "metadata": {},
   "outputs": [
    {
     "name": "stdout",
     "output_type": "stream",
     "text": [
      "level1_(1,)\n",
      "level2_(1, 1)\n",
      "level3_(1, 1, 1)\n",
      "level4_(1, 1, 1, 1)\n",
      "level5_(1, 1, 1, 1, 1)\n",
      "level6_(1, 1, 1, 1, 1, 1)\n",
      "level7_(1, 1, 1, 1, 1, 1, 0)\n",
      "level8_(1, 1, 1, 1, 1, 1, 0, 0)\n",
      "level9_(1, 1, 1, 1, 1, 1, 0, 0, 0)\n",
      "level10_(1, 1, 1, 1, 1, 1, 0, 0, 0, 0)\n",
      "level11_(1, 1, 1, 1, 1, 1, 0, 0, 0, 0, 0)\n",
      "level12_(1, 1, 1, 1, 1, 1, 0, 0, 0, 0, 0, 0)\n",
      "level13_(1, 1, 1, 1, 1, 1, 0, 0, 0, 0, 0, 0, 0)\n",
      "level14_(1, 1, 1, 1, 1, 1, 0, 0, 0, 0, 0, 0, 0, 0)\n",
      "level15_(1, 1, 1, 1, 1, 1, 0, 0, 0, 0, 0, 0, 0, 0, 0)\n",
      "level16_(1, 1, 1, 1, 1, 1, 0, 0, 0, 0, 0, 0, 0, 0, 0, 0)\n",
      "level17_(1, 1, 1, 1, 1, 1, 0, 0, 0, 0, 0, 0, 0, 0, 0, 0, 0)\n",
      "level18_(1, 1, 1, 1, 1, 1, 0, 0, 0, 0, 0, 0, 0, 0, 0, 0, 0, 0)\n",
      "level19_(1, 1, 1, 1, 1, 1, 0, 0, 0, 0, 0, 0, 0, 0, 0, 0, 0, 0, 0)\n",
      "level20_(1, 1, 1, 1, 1, 1, 0, 0, 0, 0, 0, 0, 0, 0, 0, 0, 0, 0, 0, 1)\n",
      "level21_(1, 1, 1, 1, 1, 1, 0, 0, 0, 0, 0, 0, 0, 0, 0, 0, 0, 0, 0, 1, 1)\n",
      "level22_(1, 1, 1, 1, 1, 1, 0, 0, 0, 0, 0, 0, 0, 0, 0, 0, 0, 0, 0, 1, 1, 1)\n",
      "level23_(1, 1, 1, 1, 1, 1, 0, 0, 0, 0, 0, 0, 0, 0, 0, 0, 0, 0, 0, 1, 1, 1, 1)\n",
      "level24_(1, 1, 1, 1, 1, 1, 0, 0, 0, 0, 0, 0, 0, 0, 0, 0, 0, 0, 0, 1, 1, 1, 1, 1)\n",
      "Wall time: 270 ms\n"
     ]
    }
   ],
   "source": [
    "%%time\n",
    "\n",
    "for step in steps:\n",
    "    for state in state_lookup:\n",
    "        if state_lookup[state] == step:\n",
    "            print(state)"
   ]
  }
 ],
 "metadata": {
  "kernelspec": {
   "display_name": "Python 3 (ipykernel)",
   "language": "python",
   "name": "python3"
  },
  "language_info": {
   "codemirror_mode": {
    "name": "ipython",
    "version": 3
   },
   "file_extension": ".py",
   "mimetype": "text/x-python",
   "name": "python",
   "nbconvert_exporter": "python",
   "pygments_lexer": "ipython3",
   "version": "3.8.13"
  }
 },
 "nbformat": 4,
 "nbformat_minor": 5
}
